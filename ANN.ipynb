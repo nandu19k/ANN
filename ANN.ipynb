{
  "nbformat": 4,
  "nbformat_minor": 0,
  "metadata": {
    "colab": {
      "name": "ANN.ipynb",
      "provenance": []
    },
    "kernelspec": {
      "name": "python3",
      "display_name": "Python 3"
    },
    "accelerator": "GPU"
  },
  "cells": [
    {
      "cell_type": "markdown",
      "metadata": {
        "id": "0t-rT0cVX8K-",
        "colab_type": "text"
      },
      "source": [
        "**Artificial Neural Network**"
      ]
    },
    {
      "cell_type": "code",
      "metadata": {
        "id": "H6R9YNFoYW0E",
        "colab_type": "code",
        "colab": {}
      },
      "source": [
        "import numpy as np\n",
        "import pandas as pd"
      ],
      "execution_count": 1,
      "outputs": []
    },
    {
      "cell_type": "code",
      "metadata": {
        "id": "2aj1ayqCYZnW",
        "colab_type": "code",
        "colab": {}
      },
      "source": [
        "dataset = pd.read_csv('Churn_Modelling.csv')"
      ],
      "execution_count": 2,
      "outputs": []
    },
    {
      "cell_type": "code",
      "metadata": {
        "id": "hjAzECW6YfFd",
        "colab_type": "code",
        "colab": {
          "base_uri": "https://localhost:8080/",
          "height": 204
        },
        "outputId": "8c912dc3-3e20-4a93-e1a7-454e98760616"
      },
      "source": [
        "dataset.head()"
      ],
      "execution_count": 3,
      "outputs": [
        {
          "output_type": "execute_result",
          "data": {
            "text/html": [
              "<div>\n",
              "<style scoped>\n",
              "    .dataframe tbody tr th:only-of-type {\n",
              "        vertical-align: middle;\n",
              "    }\n",
              "\n",
              "    .dataframe tbody tr th {\n",
              "        vertical-align: top;\n",
              "    }\n",
              "\n",
              "    .dataframe thead th {\n",
              "        text-align: right;\n",
              "    }\n",
              "</style>\n",
              "<table border=\"1\" class=\"dataframe\">\n",
              "  <thead>\n",
              "    <tr style=\"text-align: right;\">\n",
              "      <th></th>\n",
              "      <th>RowNumber</th>\n",
              "      <th>CustomerId</th>\n",
              "      <th>Surname</th>\n",
              "      <th>CreditScore</th>\n",
              "      <th>Geography</th>\n",
              "      <th>Gender</th>\n",
              "      <th>Age</th>\n",
              "      <th>Tenure</th>\n",
              "      <th>Balance</th>\n",
              "      <th>NumOfProducts</th>\n",
              "      <th>HasCrCard</th>\n",
              "      <th>IsActiveMember</th>\n",
              "      <th>EstimatedSalary</th>\n",
              "      <th>Exited</th>\n",
              "    </tr>\n",
              "  </thead>\n",
              "  <tbody>\n",
              "    <tr>\n",
              "      <th>0</th>\n",
              "      <td>1</td>\n",
              "      <td>15634602</td>\n",
              "      <td>Hargrave</td>\n",
              "      <td>619</td>\n",
              "      <td>France</td>\n",
              "      <td>Female</td>\n",
              "      <td>42</td>\n",
              "      <td>2</td>\n",
              "      <td>0.00</td>\n",
              "      <td>1</td>\n",
              "      <td>1</td>\n",
              "      <td>1</td>\n",
              "      <td>101348.88</td>\n",
              "      <td>1</td>\n",
              "    </tr>\n",
              "    <tr>\n",
              "      <th>1</th>\n",
              "      <td>2</td>\n",
              "      <td>15647311</td>\n",
              "      <td>Hill</td>\n",
              "      <td>608</td>\n",
              "      <td>Spain</td>\n",
              "      <td>Female</td>\n",
              "      <td>41</td>\n",
              "      <td>1</td>\n",
              "      <td>83807.86</td>\n",
              "      <td>1</td>\n",
              "      <td>0</td>\n",
              "      <td>1</td>\n",
              "      <td>112542.58</td>\n",
              "      <td>0</td>\n",
              "    </tr>\n",
              "    <tr>\n",
              "      <th>2</th>\n",
              "      <td>3</td>\n",
              "      <td>15619304</td>\n",
              "      <td>Onio</td>\n",
              "      <td>502</td>\n",
              "      <td>France</td>\n",
              "      <td>Female</td>\n",
              "      <td>42</td>\n",
              "      <td>8</td>\n",
              "      <td>159660.80</td>\n",
              "      <td>3</td>\n",
              "      <td>1</td>\n",
              "      <td>0</td>\n",
              "      <td>113931.57</td>\n",
              "      <td>1</td>\n",
              "    </tr>\n",
              "    <tr>\n",
              "      <th>3</th>\n",
              "      <td>4</td>\n",
              "      <td>15701354</td>\n",
              "      <td>Boni</td>\n",
              "      <td>699</td>\n",
              "      <td>France</td>\n",
              "      <td>Female</td>\n",
              "      <td>39</td>\n",
              "      <td>1</td>\n",
              "      <td>0.00</td>\n",
              "      <td>2</td>\n",
              "      <td>0</td>\n",
              "      <td>0</td>\n",
              "      <td>93826.63</td>\n",
              "      <td>0</td>\n",
              "    </tr>\n",
              "    <tr>\n",
              "      <th>4</th>\n",
              "      <td>5</td>\n",
              "      <td>15737888</td>\n",
              "      <td>Mitchell</td>\n",
              "      <td>850</td>\n",
              "      <td>Spain</td>\n",
              "      <td>Female</td>\n",
              "      <td>43</td>\n",
              "      <td>2</td>\n",
              "      <td>125510.82</td>\n",
              "      <td>1</td>\n",
              "      <td>1</td>\n",
              "      <td>1</td>\n",
              "      <td>79084.10</td>\n",
              "      <td>0</td>\n",
              "    </tr>\n",
              "  </tbody>\n",
              "</table>\n",
              "</div>"
            ],
            "text/plain": [
              "   RowNumber  CustomerId   Surname  ...  IsActiveMember EstimatedSalary Exited\n",
              "0          1    15634602  Hargrave  ...               1       101348.88      1\n",
              "1          2    15647311      Hill  ...               1       112542.58      0\n",
              "2          3    15619304      Onio  ...               0       113931.57      1\n",
              "3          4    15701354      Boni  ...               0        93826.63      0\n",
              "4          5    15737888  Mitchell  ...               1        79084.10      0\n",
              "\n",
              "[5 rows x 14 columns]"
            ]
          },
          "metadata": {
            "tags": []
          },
          "execution_count": 3
        }
      ]
    },
    {
      "cell_type": "code",
      "metadata": {
        "id": "PqX2P31CYlIx",
        "colab_type": "code",
        "colab": {
          "base_uri": "https://localhost:8080/",
          "height": 272
        },
        "outputId": "1043eab6-fc2e-4a46-f1e4-25168d44851d"
      },
      "source": [
        "dataset.isna().sum()"
      ],
      "execution_count": 4,
      "outputs": [
        {
          "output_type": "execute_result",
          "data": {
            "text/plain": [
              "RowNumber          0\n",
              "CustomerId         0\n",
              "Surname            0\n",
              "CreditScore        0\n",
              "Geography          0\n",
              "Gender             0\n",
              "Age                0\n",
              "Tenure             0\n",
              "Balance            0\n",
              "NumOfProducts      0\n",
              "HasCrCard          0\n",
              "IsActiveMember     0\n",
              "EstimatedSalary    0\n",
              "Exited             0\n",
              "dtype: int64"
            ]
          },
          "metadata": {
            "tags": []
          },
          "execution_count": 4
        }
      ]
    },
    {
      "cell_type": "code",
      "metadata": {
        "id": "Ud2POPNwYp3H",
        "colab_type": "code",
        "colab": {}
      },
      "source": [
        "X = dataset.iloc[:  , 3:13].values\n",
        "y = dataset.iloc[: , -1].values"
      ],
      "execution_count": 5,
      "outputs": []
    },
    {
      "cell_type": "markdown",
      "metadata": {
        "id": "StParxxYY3bh",
        "colab_type": "text"
      },
      "source": [
        "**Encoding the Categorical Data**"
      ]
    },
    {
      "cell_type": "code",
      "metadata": {
        "id": "FtYeFiZgY-GI",
        "colab_type": "code",
        "colab": {}
      },
      "source": [
        "from sklearn.preprocessing import LabelEncoder\n",
        "labelencoder = LabelEncoder()\n",
        "X[: , 2] = labelencoder.fit_transform(X[: , 2])"
      ],
      "execution_count": 6,
      "outputs": []
    },
    {
      "cell_type": "code",
      "metadata": {
        "id": "LHmROuMiZW82",
        "colab_type": "code",
        "colab": {
          "base_uri": "https://localhost:8080/",
          "height": 34
        },
        "outputId": "1ae3adee-9e1c-4f85-a3f6-a41a265878ba"
      },
      "source": [
        "X[0]"
      ],
      "execution_count": 7,
      "outputs": [
        {
          "output_type": "execute_result",
          "data": {
            "text/plain": [
              "array([619, 'France', 0, 42, 2, 0.0, 1, 1, 1, 101348.88], dtype=object)"
            ]
          },
          "metadata": {
            "tags": []
          },
          "execution_count": 7
        }
      ]
    },
    {
      "cell_type": "code",
      "metadata": {
        "id": "xd8pzS0ZZZrY",
        "colab_type": "code",
        "colab": {}
      },
      "source": [
        "from sklearn.compose import ColumnTransformer\n",
        "from sklearn.preprocessing import OneHotEncoder\n",
        "ct= ColumnTransformer(transformers = [('encoder' , OneHotEncoder() , [1])] , remainder = 'passthrough')\n",
        "X = np.array(ct.fit_transform(X))"
      ],
      "execution_count": 8,
      "outputs": []
    },
    {
      "cell_type": "code",
      "metadata": {
        "id": "qteh6MHTZxkN",
        "colab_type": "code",
        "colab": {
          "base_uri": "https://localhost:8080/",
          "height": 51
        },
        "outputId": "d965988f-c2cb-4cc2-dbf9-44b59369e9b3"
      },
      "source": [
        "X[0]"
      ],
      "execution_count": 10,
      "outputs": [
        {
          "output_type": "execute_result",
          "data": {
            "text/plain": [
              "array([1.0, 0.0, 0.0, 619, 0, 42, 2, 0.0, 1, 1, 1, 101348.88],\n",
              "      dtype=object)"
            ]
          },
          "metadata": {
            "tags": []
          },
          "execution_count": 10
        }
      ]
    },
    {
      "cell_type": "code",
      "metadata": {
        "id": "WfzIxV4eZ0oO",
        "colab_type": "code",
        "colab": {}
      },
      "source": [
        "X = X[: , 1:] #avoid dummy variable trap"
      ],
      "execution_count": 11,
      "outputs": []
    },
    {
      "cell_type": "code",
      "metadata": {
        "id": "3-MDlL6HZ23L",
        "colab_type": "code",
        "colab": {
          "base_uri": "https://localhost:8080/",
          "height": 34
        },
        "outputId": "3f89bd2c-63ee-4c64-a2e1-72db7f9b22b7"
      },
      "source": [
        "X[4]"
      ],
      "execution_count": 39,
      "outputs": [
        {
          "output_type": "execute_result",
          "data": {
            "text/plain": [
              "array([0.0, 1.0, 850, 0, 43, 2, 125510.82, 1, 1, 1, 79084.1], dtype=object)"
            ]
          },
          "metadata": {
            "tags": []
          },
          "execution_count": 39
        }
      ]
    },
    {
      "cell_type": "markdown",
      "metadata": {
        "id": "T5yRGdESZ-dl",
        "colab_type": "text"
      },
      "source": [
        "**Splitting the data in to training set and test set**"
      ]
    },
    {
      "cell_type": "code",
      "metadata": {
        "id": "dz62rcV1aEyX",
        "colab_type": "code",
        "colab": {}
      },
      "source": [
        "from sklearn.model_selection import train_test_split\n",
        "x_train , x_test , y_train , y_test = train_test_split(X, y, test_size = 0.2 , random_state = 0)"
      ],
      "execution_count": 14,
      "outputs": []
    },
    {
      "cell_type": "markdown",
      "metadata": {
        "id": "Eh68lfecajR1",
        "colab_type": "text"
      },
      "source": [
        "**Feature Scaling**"
      ]
    },
    {
      "cell_type": "code",
      "metadata": {
        "id": "eX_eDIjhagZz",
        "colab_type": "code",
        "colab": {}
      },
      "source": [
        "from sklearn.preprocessing import StandardScaler\n",
        "sc=  StandardScaler()\n",
        "x_train = sc.fit_transform(x_train)\n",
        "x_test = sc.transform(x_test)"
      ],
      "execution_count": 15,
      "outputs": []
    },
    {
      "cell_type": "markdown",
      "metadata": {
        "id": "rGhNWGAla7Q6",
        "colab_type": "text"
      },
      "source": [
        "\n",
        "**Building the artificial Neural Network**\n"
      ]
    },
    {
      "cell_type": "code",
      "metadata": {
        "id": "TeP1wRtya6ej",
        "colab_type": "code",
        "colab": {}
      },
      "source": [
        "import keras\n",
        "from keras.models import Sequential\n",
        "from keras.layers import Dense , Dropout"
      ],
      "execution_count": 18,
      "outputs": []
    },
    {
      "cell_type": "code",
      "metadata": {
        "id": "ppIVktZmbvY8",
        "colab_type": "code",
        "colab": {}
      },
      "source": [
        "classifier = Sequential()"
      ],
      "execution_count": 19,
      "outputs": []
    },
    {
      "cell_type": "code",
      "metadata": {
        "id": "oTOEfajEbzN_",
        "colab_type": "code",
        "colab": {}
      },
      "source": [
        "classifier.add(Dense(units = 15 , activation='relu' , kernel_initializer='glorot_uniform' , input_dim=11))"
      ],
      "execution_count": 20,
      "outputs": []
    },
    {
      "cell_type": "code",
      "metadata": {
        "id": "u-MH0w-vchjj",
        "colab_type": "code",
        "colab": {}
      },
      "source": [
        "classifier.add(Dropout(rate=0.1))"
      ],
      "execution_count": 22,
      "outputs": []
    },
    {
      "cell_type": "code",
      "metadata": {
        "id": "wM81WB0ncopC",
        "colab_type": "code",
        "colab": {}
      },
      "source": [
        "classifier.add(Dense(units = 12 , activation='relu' , kernel_initializer='glorot_uniform'))\n",
        "classifier.add(Dropout(rate=0.1))"
      ],
      "execution_count": 23,
      "outputs": []
    },
    {
      "cell_type": "code",
      "metadata": {
        "id": "I0vN1Huhc1ro",
        "colab_type": "code",
        "colab": {}
      },
      "source": [
        "classifier.add(Dense(units = 1 , activation='sigmoid'))"
      ],
      "execution_count": 24,
      "outputs": []
    },
    {
      "cell_type": "markdown",
      "metadata": {
        "id": "GJ9ngsvpc-Jg",
        "colab_type": "text"
      },
      "source": [
        "![29_4_ANN.png](data:image/png;base64,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)"
      ]
    },
    {
      "cell_type": "markdown",
      "metadata": {
        "id": "9GWIFK5XdRYO",
        "colab_type": "text"
      },
      "source": [
        "![29_5_ANN.png](data:image/png;base64,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)"
      ]
    },
    {
      "cell_type": "code",
      "metadata": {
        "id": "aBCrRXAUdUZf",
        "colab_type": "code",
        "colab": {}
      },
      "source": [
        "classifier.compile(optimizer='adam' , loss='binary_crossentropy' , metrics=['accuracy'])"
      ],
      "execution_count": 25,
      "outputs": []
    },
    {
      "cell_type": "code",
      "metadata": {
        "id": "0SErCs9Tdp0X",
        "colab_type": "code",
        "colab": {
          "base_uri": "https://localhost:8080/",
          "height": 1000
        },
        "outputId": "4d9888d7-206f-4d77-97db-70de93c789d8"
      },
      "source": [
        "classifier.fit(x_train, y_train, batch_size=32 , epochs = 100)"
      ],
      "execution_count": 27,
      "outputs": [
        {
          "output_type": "stream",
          "text": [
            "Epoch 1/100\n",
            "250/250 [==============================] - 0s 2ms/step - loss: 0.3555 - accuracy: 0.8529\n",
            "Epoch 2/100\n",
            "250/250 [==============================] - 0s 2ms/step - loss: 0.3522 - accuracy: 0.8544\n",
            "Epoch 3/100\n",
            "250/250 [==============================] - 0s 2ms/step - loss: 0.3502 - accuracy: 0.8558\n",
            "Epoch 4/100\n",
            "250/250 [==============================] - 1s 2ms/step - loss: 0.3510 - accuracy: 0.8562\n",
            "Epoch 5/100\n",
            "250/250 [==============================] - 0s 2ms/step - loss: 0.3522 - accuracy: 0.8566\n",
            "Epoch 6/100\n",
            "250/250 [==============================] - 0s 2ms/step - loss: 0.3507 - accuracy: 0.8556\n",
            "Epoch 7/100\n",
            "250/250 [==============================] - 0s 2ms/step - loss: 0.3492 - accuracy: 0.8596\n",
            "Epoch 8/100\n",
            "250/250 [==============================] - 0s 2ms/step - loss: 0.3507 - accuracy: 0.8553\n",
            "Epoch 9/100\n",
            "250/250 [==============================] - 0s 2ms/step - loss: 0.3459 - accuracy: 0.8571\n",
            "Epoch 10/100\n",
            "250/250 [==============================] - 0s 2ms/step - loss: 0.3501 - accuracy: 0.8574\n",
            "Epoch 11/100\n",
            "250/250 [==============================] - 0s 2ms/step - loss: 0.3476 - accuracy: 0.8595\n",
            "Epoch 12/100\n",
            "250/250 [==============================] - 0s 2ms/step - loss: 0.3447 - accuracy: 0.8584\n",
            "Epoch 13/100\n",
            "250/250 [==============================] - 0s 2ms/step - loss: 0.3471 - accuracy: 0.8616\n",
            "Epoch 14/100\n",
            "250/250 [==============================] - 0s 2ms/step - loss: 0.3465 - accuracy: 0.8581\n",
            "Epoch 15/100\n",
            "250/250 [==============================] - 0s 2ms/step - loss: 0.3485 - accuracy: 0.8589\n",
            "Epoch 16/100\n",
            "250/250 [==============================] - 0s 2ms/step - loss: 0.3452 - accuracy: 0.8595\n",
            "Epoch 17/100\n",
            "250/250 [==============================] - 0s 2ms/step - loss: 0.3444 - accuracy: 0.8604\n",
            "Epoch 18/100\n",
            "250/250 [==============================] - 0s 2ms/step - loss: 0.3471 - accuracy: 0.8597\n",
            "Epoch 19/100\n",
            "250/250 [==============================] - 0s 2ms/step - loss: 0.3462 - accuracy: 0.8586\n",
            "Epoch 20/100\n",
            "250/250 [==============================] - 0s 2ms/step - loss: 0.3463 - accuracy: 0.8593\n",
            "Epoch 21/100\n",
            "250/250 [==============================] - 0s 2ms/step - loss: 0.3434 - accuracy: 0.8587\n",
            "Epoch 22/100\n",
            "250/250 [==============================] - 0s 2ms/step - loss: 0.3440 - accuracy: 0.8618\n",
            "Epoch 23/100\n",
            "250/250 [==============================] - 0s 2ms/step - loss: 0.3422 - accuracy: 0.8609\n",
            "Epoch 24/100\n",
            "250/250 [==============================] - 0s 2ms/step - loss: 0.3423 - accuracy: 0.8618\n",
            "Epoch 25/100\n",
            "250/250 [==============================] - 0s 2ms/step - loss: 0.3454 - accuracy: 0.8584\n",
            "Epoch 26/100\n",
            "250/250 [==============================] - 1s 2ms/step - loss: 0.3413 - accuracy: 0.8595\n",
            "Epoch 27/100\n",
            "250/250 [==============================] - 0s 2ms/step - loss: 0.3435 - accuracy: 0.8584\n",
            "Epoch 28/100\n",
            "250/250 [==============================] - 0s 2ms/step - loss: 0.3436 - accuracy: 0.8600\n",
            "Epoch 29/100\n",
            "250/250 [==============================] - 0s 2ms/step - loss: 0.3415 - accuracy: 0.8627\n",
            "Epoch 30/100\n",
            "250/250 [==============================] - 1s 2ms/step - loss: 0.3428 - accuracy: 0.8595\n",
            "Epoch 31/100\n",
            "250/250 [==============================] - 0s 2ms/step - loss: 0.3446 - accuracy: 0.8581\n",
            "Epoch 32/100\n",
            "250/250 [==============================] - 0s 2ms/step - loss: 0.3434 - accuracy: 0.8621\n",
            "Epoch 33/100\n",
            "250/250 [==============================] - 0s 2ms/step - loss: 0.3427 - accuracy: 0.8629\n",
            "Epoch 34/100\n",
            "250/250 [==============================] - 1s 2ms/step - loss: 0.3413 - accuracy: 0.8620\n",
            "Epoch 35/100\n",
            "250/250 [==============================] - 1s 2ms/step - loss: 0.3426 - accuracy: 0.8639\n",
            "Epoch 36/100\n",
            "250/250 [==============================] - 0s 2ms/step - loss: 0.3424 - accuracy: 0.8608\n",
            "Epoch 37/100\n",
            "250/250 [==============================] - 0s 2ms/step - loss: 0.3389 - accuracy: 0.8630\n",
            "Epoch 38/100\n",
            "250/250 [==============================] - 0s 2ms/step - loss: 0.3387 - accuracy: 0.8621\n",
            "Epoch 39/100\n",
            "250/250 [==============================] - 0s 2ms/step - loss: 0.3399 - accuracy: 0.8604\n",
            "Epoch 40/100\n",
            "250/250 [==============================] - 0s 2ms/step - loss: 0.3405 - accuracy: 0.8612\n",
            "Epoch 41/100\n",
            "250/250 [==============================] - 0s 2ms/step - loss: 0.3424 - accuracy: 0.8615\n",
            "Epoch 42/100\n",
            "250/250 [==============================] - 0s 2ms/step - loss: 0.3415 - accuracy: 0.8591\n",
            "Epoch 43/100\n",
            "250/250 [==============================] - 0s 2ms/step - loss: 0.3421 - accuracy: 0.8597\n",
            "Epoch 44/100\n",
            "250/250 [==============================] - 0s 2ms/step - loss: 0.3384 - accuracy: 0.8635\n",
            "Epoch 45/100\n",
            "250/250 [==============================] - 0s 2ms/step - loss: 0.3364 - accuracy: 0.8620\n",
            "Epoch 46/100\n",
            "250/250 [==============================] - 0s 2ms/step - loss: 0.3419 - accuracy: 0.8627\n",
            "Epoch 47/100\n",
            "250/250 [==============================] - 0s 2ms/step - loss: 0.3390 - accuracy: 0.8622\n",
            "Epoch 48/100\n",
            "250/250 [==============================] - 0s 2ms/step - loss: 0.3394 - accuracy: 0.8626\n",
            "Epoch 49/100\n",
            "250/250 [==============================] - 0s 2ms/step - loss: 0.3400 - accuracy: 0.8618\n",
            "Epoch 50/100\n",
            "250/250 [==============================] - 0s 2ms/step - loss: 0.3399 - accuracy: 0.8619\n",
            "Epoch 51/100\n",
            "250/250 [==============================] - 0s 2ms/step - loss: 0.3417 - accuracy: 0.8620\n",
            "Epoch 52/100\n",
            "250/250 [==============================] - 0s 2ms/step - loss: 0.3402 - accuracy: 0.8610\n",
            "Epoch 53/100\n",
            "250/250 [==============================] - 0s 2ms/step - loss: 0.3404 - accuracy: 0.8614\n",
            "Epoch 54/100\n",
            "250/250 [==============================] - 0s 2ms/step - loss: 0.3433 - accuracy: 0.8619\n",
            "Epoch 55/100\n",
            "250/250 [==============================] - 0s 2ms/step - loss: 0.3362 - accuracy: 0.8637\n",
            "Epoch 56/100\n",
            "250/250 [==============================] - 0s 2ms/step - loss: 0.3380 - accuracy: 0.8618\n",
            "Epoch 57/100\n",
            "250/250 [==============================] - 0s 2ms/step - loss: 0.3408 - accuracy: 0.8634\n",
            "Epoch 58/100\n",
            "250/250 [==============================] - 0s 2ms/step - loss: 0.3415 - accuracy: 0.8596\n",
            "Epoch 59/100\n",
            "250/250 [==============================] - 0s 2ms/step - loss: 0.3389 - accuracy: 0.8629\n",
            "Epoch 60/100\n",
            "250/250 [==============================] - 0s 2ms/step - loss: 0.3367 - accuracy: 0.8602\n",
            "Epoch 61/100\n",
            "250/250 [==============================] - 0s 2ms/step - loss: 0.3429 - accuracy: 0.8593\n",
            "Epoch 62/100\n",
            "250/250 [==============================] - 0s 2ms/step - loss: 0.3418 - accuracy: 0.8639\n",
            "Epoch 63/100\n",
            "250/250 [==============================] - 0s 2ms/step - loss: 0.3407 - accuracy: 0.8606\n",
            "Epoch 64/100\n",
            "250/250 [==============================] - 0s 2ms/step - loss: 0.3356 - accuracy: 0.8641\n",
            "Epoch 65/100\n",
            "250/250 [==============================] - 0s 2ms/step - loss: 0.3389 - accuracy: 0.8599\n",
            "Epoch 66/100\n",
            "250/250 [==============================] - 0s 2ms/step - loss: 0.3376 - accuracy: 0.8625\n",
            "Epoch 67/100\n",
            "250/250 [==============================] - 0s 2ms/step - loss: 0.3366 - accuracy: 0.8629\n",
            "Epoch 68/100\n",
            "250/250 [==============================] - 0s 2ms/step - loss: 0.3369 - accuracy: 0.8625\n",
            "Epoch 69/100\n",
            "250/250 [==============================] - 0s 2ms/step - loss: 0.3370 - accuracy: 0.8639\n",
            "Epoch 70/100\n",
            "250/250 [==============================] - 0s 2ms/step - loss: 0.3377 - accuracy: 0.8627\n",
            "Epoch 71/100\n",
            "250/250 [==============================] - 0s 2ms/step - loss: 0.3385 - accuracy: 0.8637\n",
            "Epoch 72/100\n",
            "250/250 [==============================] - 0s 2ms/step - loss: 0.3387 - accuracy: 0.8614\n",
            "Epoch 73/100\n",
            "250/250 [==============================] - 0s 2ms/step - loss: 0.3398 - accuracy: 0.8614\n",
            "Epoch 74/100\n",
            "250/250 [==============================] - 0s 2ms/step - loss: 0.3361 - accuracy: 0.8625\n",
            "Epoch 75/100\n",
            "250/250 [==============================] - 0s 2ms/step - loss: 0.3371 - accuracy: 0.8648\n",
            "Epoch 76/100\n",
            "250/250 [==============================] - 0s 2ms/step - loss: 0.3393 - accuracy: 0.8641\n",
            "Epoch 77/100\n",
            "250/250 [==============================] - 0s 2ms/step - loss: 0.3381 - accuracy: 0.8611\n",
            "Epoch 78/100\n",
            "250/250 [==============================] - 0s 2ms/step - loss: 0.3354 - accuracy: 0.8643\n",
            "Epoch 79/100\n",
            "250/250 [==============================] - 0s 2ms/step - loss: 0.3372 - accuracy: 0.8612\n",
            "Epoch 80/100\n",
            "250/250 [==============================] - 0s 2ms/step - loss: 0.3370 - accuracy: 0.8610\n",
            "Epoch 81/100\n",
            "250/250 [==============================] - 1s 2ms/step - loss: 0.3321 - accuracy: 0.8645\n",
            "Epoch 82/100\n",
            "250/250 [==============================] - 0s 2ms/step - loss: 0.3379 - accuracy: 0.8637\n",
            "Epoch 83/100\n",
            "250/250 [==============================] - 0s 2ms/step - loss: 0.3380 - accuracy: 0.8612\n",
            "Epoch 84/100\n",
            "250/250 [==============================] - 0s 2ms/step - loss: 0.3373 - accuracy: 0.8629\n",
            "Epoch 85/100\n",
            "250/250 [==============================] - 1s 2ms/step - loss: 0.3354 - accuracy: 0.8601\n",
            "Epoch 86/100\n",
            "250/250 [==============================] - 0s 2ms/step - loss: 0.3328 - accuracy: 0.8645\n",
            "Epoch 87/100\n",
            "250/250 [==============================] - 0s 2ms/step - loss: 0.3383 - accuracy: 0.8643\n",
            "Epoch 88/100\n",
            "250/250 [==============================] - 0s 2ms/step - loss: 0.3376 - accuracy: 0.8631\n",
            "Epoch 89/100\n",
            "250/250 [==============================] - 0s 2ms/step - loss: 0.3399 - accuracy: 0.8604\n",
            "Epoch 90/100\n",
            "250/250 [==============================] - 0s 2ms/step - loss: 0.3414 - accuracy: 0.8619\n",
            "Epoch 91/100\n",
            "250/250 [==============================] - 0s 2ms/step - loss: 0.3340 - accuracy: 0.8669\n",
            "Epoch 92/100\n",
            "250/250 [==============================] - 0s 2ms/step - loss: 0.3378 - accuracy: 0.8612\n",
            "Epoch 93/100\n",
            "250/250 [==============================] - 0s 2ms/step - loss: 0.3352 - accuracy: 0.8629\n",
            "Epoch 94/100\n",
            "250/250 [==============================] - 0s 2ms/step - loss: 0.3351 - accuracy: 0.8633\n",
            "Epoch 95/100\n",
            "250/250 [==============================] - 0s 2ms/step - loss: 0.3370 - accuracy: 0.8616\n",
            "Epoch 96/100\n",
            "250/250 [==============================] - 1s 2ms/step - loss: 0.3369 - accuracy: 0.8645\n",
            "Epoch 97/100\n",
            "250/250 [==============================] - 0s 2ms/step - loss: 0.3353 - accuracy: 0.8652\n",
            "Epoch 98/100\n",
            "250/250 [==============================] - 0s 2ms/step - loss: 0.3359 - accuracy: 0.8621\n",
            "Epoch 99/100\n",
            "250/250 [==============================] - 0s 2ms/step - loss: 0.3375 - accuracy: 0.8611\n",
            "Epoch 100/100\n",
            "250/250 [==============================] - 0s 2ms/step - loss: 0.3382 - accuracy: 0.8622\n"
          ],
          "name": "stdout"
        },
        {
          "output_type": "execute_result",
          "data": {
            "text/plain": [
              "<tensorflow.python.keras.callbacks.History at 0x7fb36073ce48>"
            ]
          },
          "metadata": {
            "tags": []
          },
          "execution_count": 27
        }
      ]
    },
    {
      "cell_type": "code",
      "metadata": {
        "id": "Sd9wXkqSeMoZ",
        "colab_type": "code",
        "colab": {}
      },
      "source": [
        "y_pred = classifier.predict(x_test)"
      ],
      "execution_count": 28,
      "outputs": []
    },
    {
      "cell_type": "code",
      "metadata": {
        "id": "1tP3xviweTTi",
        "colab_type": "code",
        "colab": {
          "base_uri": "https://localhost:8080/",
          "height": 136
        },
        "outputId": "6a6f1541-627b-43a0-a4b3-46fc7bd65cad"
      },
      "source": [
        "y_pred"
      ],
      "execution_count": 29,
      "outputs": [
        {
          "output_type": "execute_result",
          "data": {
            "text/plain": [
              "array([[0.21833669],\n",
              "       [0.33892953],\n",
              "       [0.11291581],\n",
              "       ...,\n",
              "       [0.14610885],\n",
              "       [0.15314092],\n",
              "       [0.22076151]], dtype=float32)"
            ]
          },
          "metadata": {
            "tags": []
          },
          "execution_count": 29
        }
      ]
    },
    {
      "cell_type": "code",
      "metadata": {
        "id": "rufxVnMUeV1W",
        "colab_type": "code",
        "colab": {}
      },
      "source": [
        "y_pred = y_pred >=0.5"
      ],
      "execution_count": 33,
      "outputs": []
    },
    {
      "cell_type": "code",
      "metadata": {
        "id": "7bKBI5INeZUy",
        "colab_type": "code",
        "colab": {
          "base_uri": "https://localhost:8080/",
          "height": 136
        },
        "outputId": "40b078d2-0f08-4a01-fdb2-4d85cf1e0d96"
      },
      "source": [
        "y_pred"
      ],
      "execution_count": 34,
      "outputs": [
        {
          "output_type": "execute_result",
          "data": {
            "text/plain": [
              "array([[False],\n",
              "       [False],\n",
              "       [False],\n",
              "       ...,\n",
              "       [False],\n",
              "       [False],\n",
              "       [False]])"
            ]
          },
          "metadata": {
            "tags": []
          },
          "execution_count": 34
        }
      ]
    },
    {
      "cell_type": "markdown",
      "metadata": {
        "id": "6exgq3CWesPC",
        "colab_type": "text"
      },
      "source": [
        "**Making the confusion matix**"
      ]
    },
    {
      "cell_type": "code",
      "metadata": {
        "id": "cAOSDL6pevdH",
        "colab_type": "code",
        "colab": {
          "base_uri": "https://localhost:8080/",
          "height": 282
        },
        "outputId": "7204a193-6694-4e4a-dba8-73181b56b0b6"
      },
      "source": [
        "import seaborn as sns\n",
        "from sklearn.metrics import confusion_matrix , accuracy_score\n",
        "cm = confusion_matrix(y_test , y_pred)\n",
        "sns.heatmap(cm  , annot=True)\n",
        "print(accuracy_score(y_test , y_pred))"
      ],
      "execution_count": 36,
      "outputs": [
        {
          "output_type": "stream",
          "text": [
            "0.861\n"
          ],
          "name": "stdout"
        },
        {
          "output_type": "display_data",
          "data": {
            "image/png": "[encoded data removed]",
            "text/plain": [
              "<Figure size 432x288 with 2 Axes>"
            ]
          },
          "metadata": {
            "tags": [],
            "needs_background": "light"
          }
        }
      ]
    },
    {
      "cell_type": "markdown",
      "metadata": {
        "id": "2r0Hc9Rafelg",
        "colab_type": "text"
      },
      "source": [
        "# Predicting a single new observation\n"
      ]
    },
    {
      "cell_type": "markdown",
      "metadata": {
        "id": "X_CkMPIYf5y9",
        "colab_type": "text"
      },
      "source": [
        "Predict if the customer with the given information below will leave the bank or not:\n",
        "\n",
        "\n",
        "1. Geography: Spain\n",
        "2.Credit Score: 700\n",
        "3.Gender: Female\n",
        "4.Age: 35\n",
        "5.Tenure: 4\n",
        "6.Balance: 50000\n",
        "7.Number of Products: 3\n",
        "8.Has Credit Card: Yes\n",
        "9.Is Active Member: Yes\n",
        "10.Estimated Salary: 40000\n",
        "\n"
      ]
    },
    {
      "cell_type": "code",
      "metadata": {
        "id": "0dV3g0jPhITJ",
        "colab_type": "code",
        "colab": {}
      },
      "source": [
        "y_new = classifier.predict(sc.transform(np.array([[0.0 , 1.0 , 700 , 0 ,35 , 4 ,50000 , 3 , 1 ,1 ,40000]])))"
      ],
      "execution_count": 40,
      "outputs": []
    },
    {
      "cell_type": "code",
      "metadata": {
        "id": "KWVL1kT-hkds",
        "colab_type": "code",
        "colab": {
          "base_uri": "https://localhost:8080/",
          "height": 34
        },
        "outputId": "60a1315a-adf1-4250-9518-6e31fa0ab326"
      },
      "source": [
        "y_new"
      ],
      "execution_count": 41,
      "outputs": [
        {
          "output_type": "execute_result",
          "data": {
            "text/plain": [
              "array([[0.72890335]], dtype=float32)"
            ]
          },
          "metadata": {
            "tags": []
          },
          "execution_count": 41
        }
      ]
    },
    {
      "cell_type": "code",
      "metadata": {
        "id": "5G2wa_1DhnjN",
        "colab_type": "code",
        "colab": {
          "base_uri": "https://localhost:8080/",
          "height": 34
        },
        "outputId": "5980a7ba-9ed6-460a-ceea-c1a3b5ee3850"
      },
      "source": [
        "y_new = y_new>0.5\n",
        "print(y_new)"
      ],
      "execution_count": 43,
      "outputs": [
        {
          "output_type": "stream",
          "text": [
            "[[ True]]\n"
          ],
          "name": "stdout"
        }
      ]
    },
    {
      "cell_type": "markdown",
      "metadata": {
        "id": "PDHg6NC6h0PI",
        "colab_type": "text"
      },
      "source": [
        "**Thank You!!!**"
      ]
    }
  ]
}